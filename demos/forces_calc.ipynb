{
 "cells": [
  {
   "cell_type": "code",
   "execution_count": null,
   "id": "8b1ba745-4f90-4109-a314-70d32799e9c8",
   "metadata": {
    "tags": []
   },
   "outputs": [],
   "source": [
    "from math import pi as π\n",
    "\n",
    "import torch\n",
    "import matplotlib.pyplot as plt\n",
    "\n",
    "from vonmises.distributions import VonMisesFisherDensity, MixtureDensity\n",
    "from vonmises.models import CircularFlow\n",
    "from vonmises.transforms import MobiusMixtureTransform, CircularRQSplineTransform\n",
    "from vonmises.utils import Trainer"
   ]
  },
  {
   "cell_type": "code",
   "execution_count": null,
   "id": "4aa8fb51-d102-456d-960a-173f4075a4fc",
   "metadata": {
    "tags": []
   },
   "outputs": [],
   "source": [
    "transformer = MobiusMixtureTransform(5)\n",
    "#transformer = CircularRQSplineTransform(10)\n",
    "target = VonMisesFisherDensity(10, (1, 0))\n",
    "model = CircularFlow(\n",
    "    target,\n",
    "    transformer,\n",
    "    n_layers=1,\n",
    "    batch_size=5000,\n",
    "    init_lr=0.01,\n",
    ")\n",
    "trainer = Trainer(5000)"
   ]
  },
  {
   "cell_type": "code",
   "execution_count": null,
   "id": "8ca2e793-bb7b-4e99-872c-5c4227ff1dce",
   "metadata": {},
   "outputs": [],
   "source": [
    "trainer.fit(model)\n",
    "\n",
    "(metrics,) = trainer.test(model)"
   ]
  },
  {
   "cell_type": "code",
   "execution_count": null,
   "id": "4746f28c-4b6d-41bb-b372-f89b30dc0055",
   "metadata": {
    "tags": []
   },
   "outputs": [],
   "source": [
    "model.hmc_mode(False)\n",
    "x_in, _ = next(iter(model.val_dataloader()))\n",
    "x_out, ldj = model(x_in)\n",
    "print(x_in.grad)"
   ]
  },
  {
   "cell_type": "code",
   "execution_count": null,
   "id": "68bc8eb2-8880-4a04-881d-5c17564fc6bb",
   "metadata": {
    "tags": []
   },
   "outputs": [],
   "source": [
    "model.hmc_mode()\n",
    "x_in, _ = next(iter(model.val_dataloader()))\n",
    "x_out, ldj = model(x_in)\n",
    "x_in.grad"
   ]
  },
  {
   "cell_type": "code",
   "execution_count": null,
   "id": "c7212310-997c-4a46-a332-ea6befbc3f84",
   "metadata": {
    "tags": []
   },
   "outputs": [],
   "source": [
    "from vonmises.geometry import circle_vectors_to_angles\n",
    "\n",
    "F = x_in.grad\n",
    "\n",
    "ϕ = circle_vectors_to_angles(x_in).detach()\n",
    "\n",
    "fig, axes = plt.subplots(1, 2, figsize=(12, 6))#, subplot_kw={\"polar\": True})\n",
    "axes[0].scatter(ϕ, F[:, 0], s=0.8)\n",
    "axes[1].scatter(ϕ, F[:, 1], s=0.8)"
   ]
  },
  {
   "cell_type": "code",
   "execution_count": null,
   "id": "ab21bc15-1670-44a3-8db7-fa248ace4522",
   "metadata": {},
   "outputs": [],
   "source": []
  }
 ],
 "metadata": {
  "kernelspec": {
   "display_name": "Python 3 (ipykernel)",
   "language": "python",
   "name": "python3"
  },
  "language_info": {
   "codemirror_mode": {
    "name": "ipython",
    "version": 3
   },
   "file_extension": ".py",
   "mimetype": "text/x-python",
   "name": "python",
   "nbconvert_exporter": "python",
   "pygments_lexer": "ipython3",
   "version": "3.10.7"
  }
 },
 "nbformat": 4,
 "nbformat_minor": 5
}
