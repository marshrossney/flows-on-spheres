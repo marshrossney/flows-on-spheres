{
 "cells": [
  {
   "cell_type": "markdown",
   "id": "593727fc-99cb-4182-984d-4989bf439d85",
   "metadata": {},
   "source": [
    "## Flow-based sampling on the circle"
   ]
  },
  {
   "cell_type": "code",
   "execution_count": null,
   "id": "4ac23bcb-bdfb-4156-9425-c455af1fb627",
   "metadata": {
    "tags": []
   },
   "outputs": [],
   "source": [
    "from math import pi as π\n",
    "\n",
    "import torch\n",
    "import matplotlib.pyplot as plt\n",
    "\n",
    "from vonmises.distributions import VonMisesFisherDensity, MixtureDensity\n",
    "from vonmises.models import CircularFlow\n",
    "from vonmises.transforms import MobiusMixtureTransform, CircularRQSplineTransform\n",
    "from vonmises.utils import Trainer"
   ]
  },
  {
   "cell_type": "code",
   "execution_count": null,
   "id": "e1fba6a1-e1cf-4e9c-aa34-13fae0086373",
   "metadata": {
    "tags": []
   },
   "outputs": [],
   "source": [
    "?CircularFlow\n",
    "# ?MobiusMixtureTransform\n",
    "# ?CircularRQSplineTransform\n",
    "# ?VonMisesFisherDensity\n",
    "# ?MixtureDensity\n",
    "# ?Trainer"
   ]
  },
  {
   "cell_type": "code",
   "execution_count": null,
   "id": "4aa7bf41-9985-4370-892a-2bb30662d086",
   "metadata": {
    "tags": []
   },
   "outputs": [],
   "source": [
    "# transformer = MobiusMixtureTransform(10)\n",
    "transformer = CircularRQSplineTransform(10)\n",
    "target = MixtureDensity(\n",
    "    [\n",
    "        VonMisesFisherDensity(κ, μ)\n",
    "        for κ, μ in zip([5, 10, 15], [(0, 1), (1, 0), (-1, 1)])\n",
    "    ],\n",
    ")\n",
    "model = CircularFlow(\n",
    "    transformer,\n",
    "    target,\n",
    "    n_layers=1,\n",
    "    batch_size=3000,\n",
    "    init_lr=0.01,\n",
    ")\n",
    "trainer = Trainer(3000)"
   ]
  },
  {
   "cell_type": "code",
   "execution_count": null,
   "id": "09a71411-ea10-4f5f-890f-b8fab202077d",
   "metadata": {},
   "outputs": [],
   "source": [
    "trainer.fit(model)\n",
    "\n",
    "(metrics,) = trainer.test(model)"
   ]
  },
  {
   "cell_type": "code",
   "execution_count": null,
   "id": "86d2247f-fc1b-43e5-88ec-76caca2f991b",
   "metadata": {},
   "outputs": [],
   "source": [
    "from vonmises.utils.plot import circular_histogram\n",
    "\n",
    "x, log_model_density, log_target_density = model.sample(int(1e6))\n",
    "\n",
    "circular_histogram(x)\n",
    "model.visualise()\n",
    "model.visualise(polar=True)\n",
    "_"
   ]
  },
  {
   "cell_type": "code",
   "execution_count": null,
   "id": "47639bad-92f2-4804-b8bf-10367e9e24ef",
   "metadata": {},
   "outputs": [],
   "source": []
  }
 ],
 "metadata": {
  "kernelspec": {
   "display_name": "Python 3 (ipykernel)",
   "language": "python",
   "name": "python3"
  },
  "language_info": {
   "codemirror_mode": {
    "name": "ipython",
    "version": 3
   },
   "file_extension": ".py",
   "mimetype": "text/x-python",
   "name": "python",
   "nbconvert_exporter": "python",
   "pygments_lexer": "ipython3",
   "version": "3.10.7"
  }
 },
 "nbformat": 4,
 "nbformat_minor": 5
}
