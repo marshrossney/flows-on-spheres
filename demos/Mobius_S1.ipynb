{
 "cells": [
  {
   "cell_type": "markdown",
   "id": "593727fc-99cb-4182-984d-4989bf439d85",
   "metadata": {},
   "source": [
    "## Mobius transformations and densities on $\\mathbb{S}^1$"
   ]
  },
  {
   "cell_type": "code",
   "execution_count": null,
   "id": "4ac23bcb-bdfb-4156-9425-c455af1fb627",
   "metadata": {},
   "outputs": [],
   "source": [
    "from math import pi as π\n",
    "\n",
    "import torch\n",
    "import matplotlib.pyplot as plt\n",
    "\n",
    "from vonmises.distributions import VonMisesFisherDensity, VonMisesFisherMixtureDensity\n",
    "from vonmises.models import CircularFlow\n",
    "from vonmises.transforms import MobiusMixtureTransform\n",
    "from vonmises.utils import Trainer"
   ]
  },
  {
   "cell_type": "code",
   "execution_count": null,
   "id": "e1fba6a1-e1cf-4e9c-aa34-13fae0086373",
   "metadata": {
    "tags": []
   },
   "outputs": [],
   "source": [
    "CircularFlow?"
   ]
  },
  {
   "cell_type": "code",
   "execution_count": null,
   "id": "a824f708-ca9a-4531-9860-9d88b3ce17ab",
   "metadata": {
    "tags": []
   },
   "outputs": [],
   "source": [
    "MobiusMixtureTransform?"
   ]
  },
  {
   "cell_type": "code",
   "execution_count": null,
   "id": "b202f89b-1fc3-4955-81d4-dee1b20d6703",
   "metadata": {
    "tags": []
   },
   "outputs": [],
   "source": [
    "VonMisesFisherDensity?"
   ]
  },
  {
   "cell_type": "code",
   "execution_count": null,
   "id": "5c42be98-97ca-4c64-b037-ecaa75d79ac6",
   "metadata": {
    "tags": []
   },
   "outputs": [],
   "source": [
    "Trainer?"
   ]
  },
  {
   "cell_type": "code",
   "execution_count": null,
   "id": "4aa7bf41-9985-4370-892a-2bb30662d086",
   "metadata": {
    "tags": []
   },
   "outputs": [],
   "source": [
    "transformer = MobiusMixtureTransform(10)\n",
    "target = VonMisesFisherDensity(10, [0, 1])\n",
    "model = CircularFlow(\n",
    "    transformer,\n",
    "    target,\n",
    "    n_layers=1,\n",
    "    batch_size=2000,\n",
    "    init_lr=0.01,\n",
    ")\n",
    "trainer = Trainer(2000)"
   ]
  },
  {
   "cell_type": "code",
   "execution_count": null,
   "id": "09a71411-ea10-4f5f-890f-b8fab202077d",
   "metadata": {},
   "outputs": [],
   "source": [
    "trainer.fit(model)\n",
    "\n",
    "(metrics,) = trainer.test(model)"
   ]
  },
  {
   "cell_type": "code",
   "execution_count": null,
   "id": "93b132e4-a51a-4ffd-a072-c11665148334",
   "metadata": {},
   "outputs": [],
   "source": [
    "from vonmises.utils.plot import scatter2d\n",
    "\n",
    "with torch.no_grad():\n",
    "    x_in, log_p_prior = next(iter(model.test_dataloader()))\n",
    "\n",
    "    x_out, ldj = model(x_in)\n",
    "\n",
    "xy = x_out\n",
    "fig = scatter2d(xy, polar=True, s=0.5, marker=\"x\")\n",
    "\n",
    "\n",
    "# ax2.bar(\n",
    "#     0.5 * (bins[:-1] + bins[1:]), hist, width=(2 * π) / (len(bins) - 1), bottom=0.01\n",
    "# )\n",
    "# ax2.set_xticklabels([])\n",
    "\n",
    "\n",
    "# fig2, ax3 = plt.subplots()\n",
    "# ax3.set_xlabel(r\"$\\phi$\")\n",
    "# ax3.set_ylabel(\"density\")\n",
    "# ax3.scatter(ϕ, torch.exp(log_p_prior - ldj), s=0.4, label=\"model\")\n",
    "# ax3.scatter(\n",
    "#     ϕ,\n",
    "#     model.target.compute(xy),\n",
    "#     s=0.4,\n",
    "#     label=\"target\",\n",
    "# )\n",
    "# ax3.legend()"
   ]
  },
  {
   "cell_type": "code",
   "execution_count": null,
   "id": "3db1e9f5-7715-4e13-9f4c-58527fc6ed06",
   "metadata": {
    "tags": []
   },
   "outputs": [],
   "source": [
    "import torch\n",
    "torch.tensor([1]).item()"
   ]
  },
  {
   "cell_type": "code",
   "execution_count": null,
   "id": "a8cd0141-4167-4612-92ef-eed405b335b3",
   "metadata": {},
   "outputs": [],
   "source": []
  }
 ],
 "metadata": {
  "kernelspec": {
   "display_name": "Python 3 (ipykernel)",
   "language": "python",
   "name": "python3"
  },
  "language_info": {
   "codemirror_mode": {
    "name": "ipython",
    "version": 3
   },
   "file_extension": ".py",
   "mimetype": "text/x-python",
   "name": "python",
   "nbconvert_exporter": "python",
   "pygments_lexer": "ipython3",
   "version": "3.10.7"
  }
 },
 "nbformat": 4,
 "nbformat_minor": 5
}
