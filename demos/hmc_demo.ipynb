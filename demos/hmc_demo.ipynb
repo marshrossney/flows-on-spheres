{
 "cells": [
  {
   "cell_type": "code",
   "execution_count": null,
   "id": "9c542ff3-3f07-48dd-a133-7c2275eb323b",
   "metadata": {},
   "outputs": [],
   "source": [
    "from vonmises.distributions import VonMisesFisherDensity, MixtureDensity\n",
    "from vonmises.models import RecursiveFlowS2\n",
    "from vonmises.transforms import (\n",
    "    MobiusMixtureTransform,\n",
    "    RQSplineTransform,\n",
    "    CircularRQSplineTransform,\n",
    "    BSplineTransform,\n",
    ")\n",
    "from vonmises.utils import Trainer\n",
    "from vonmises.sampling import hmc, flow_hmc"
   ]
  },
  {
   "cell_type": "code",
   "execution_count": null,
   "id": "e413452d-5003-4921-9843-b1b1ae5c0af4",
   "metadata": {},
   "outputs": [],
   "source": [
    "target = VonMisesFisherDensity(10, (1, 1, 0))\n",
    "sample = hmc(target, 5000, 0.25)"
   ]
  },
  {
   "cell_type": "code",
   "execution_count": null,
   "id": "06a6d9cb-4e84-4a1d-87df-15a77f5c3928",
   "metadata": {},
   "outputs": [],
   "source": [
    "xy_transformer = MobiusMixtureTransform(10)\n",
    "z_transformer = BSplineTransform(10)\n",
    "model = RecursiveFlowS2(\n",
    "    target,\n",
    "    z_transformer,\n",
    "    xy_transformer,\n",
    "    n_layers=1,\n",
    "    batch_size=2000,\n",
    "    init_lr=0.01,\n",
    "    net_hidden_shape=[],\n",
    ")\n",
    "trainer = Trainer(2000)\n",
    "trainer.fit(model)\n",
    "(metrics,) = trainer.test(model)"
   ]
  },
  {
   "cell_type": "code",
   "execution_count": null,
   "id": "aff74d79-2c87-4f1b-8f8c-4c3e9b9fd085",
   "metadata": {
    "tags": []
   },
   "outputs": [],
   "source": [
    "sample = flow_hmc(model, 5000, 0.1)"
   ]
  },
  {
   "cell_type": "code",
   "execution_count": null,
   "id": "5eacdd34-7f61-46d8-b141-df7f5f18518d",
   "metadata": {},
   "outputs": [],
   "source": []
  }
 ],
 "metadata": {
  "kernelspec": {
   "display_name": "Python 3 (ipykernel)",
   "language": "python",
   "name": "python3"
  },
  "language_info": {
   "codemirror_mode": {
    "name": "ipython",
    "version": 3
   },
   "file_extension": ".py",
   "mimetype": "text/x-python",
   "name": "python",
   "nbconvert_exporter": "python",
   "pygments_lexer": "ipython3",
   "version": "3.10.7"
  }
 },
 "nbformat": 4,
 "nbformat_minor": 5
}
