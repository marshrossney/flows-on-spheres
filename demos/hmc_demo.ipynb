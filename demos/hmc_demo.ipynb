{
 "cells": [
  {
   "cell_type": "code",
   "execution_count": 1,
   "id": "9c542ff3-3f07-48dd-a133-7c2275eb323b",
   "metadata": {},
   "outputs": [],
   "source": [
    "from vonmises.distributions import VonMisesFisherDensity, MixtureDensity\n",
    "from vonmises.models import RecursiveFlowS2\n",
    "from vonmises.transforms import (\n",
    "    MobiusMixtureTransform,\n",
    "    RQSplineTransform,\n",
    "    CircularRQSplineTransform,\n",
    "    BSplineTransform,\n",
    ")\n",
    "from vonmises.sampling import hmc, flow_hmc\n",
    "\n",
    "from vonmises.scripts.train import Trainer"
   ]
  },
  {
   "cell_type": "code",
   "execution_count": 2,
   "id": "e413452d-5003-4921-9843-b1b1ae5c0af4",
   "metadata": {},
   "outputs": [
    {
     "name": "stdout",
     "output_type": "stream",
     "text": [
      "acceptance:  0.9936\n"
     ]
    }
   ],
   "source": [
    "target = VonMisesFisherDensity(10, (1, 1, 0))\n",
    "sample = hmc(target, 5000, 0.25)"
   ]
  },
  {
   "cell_type": "code",
   "execution_count": 3,
   "id": "06a6d9cb-4e84-4a1d-87df-15a77f5c3928",
   "metadata": {},
   "outputs": [
    {
     "name": "stderr",
     "output_type": "stream",
     "text": [
      "/home/joe/Workbench/vonmises/vonmises/models.py:245: UserWarning: To copy construct from a tensor, it is recommended to use sourceTensor.clone().detach() or sourceTensor.clone().detach().requires_grad_(True), rather than torch.tensor(sourceTensor).\n",
      "  torch.nn.Parameter(torch.tensor(z_transformer.identity_params))\n",
      "GPU available: True (cuda), used: True\n",
      "TPU available: False, using: 0 TPU cores\n",
      "IPU available: False, using: 0 IPUs\n",
      "HPU available: False, using: 0 HPUs\n",
      "`Trainer(limit_val_batches=1)` was configured so 1 batch will be used.\n",
      "`Trainer(limit_test_batches=1)` was configured so 1 batch will be used.\n",
      "LOCAL_RANK: 0 - CUDA_VISIBLE_DEVICES: [0]\n",
      "\n",
      "  | Name      | Type          | Params\n",
      "--------------------------------------------\n",
      "0 | z_params  | ParameterList | 22    \n",
      "1 | xy_params | ModuleList    | 60    \n",
      "2 | rotations | ParameterList | 1     \n",
      "--------------------------------------------\n",
      "83        Trainable params\n",
      "0         Non-trainable params\n",
      "83        Total params\n",
      "0.000     Total estimated model params size (MB)\n"
     ]
    },
    {
     "data": {
      "application/vnd.jupyter.widget-view+json": {
       "model_id": "49cc52a1ab2946429242408e977b4034",
       "version_major": 2,
       "version_minor": 0
      },
      "text/plain": [
       "Training: 0it [00:00, ?it/s]"
      ]
     },
     "metadata": {},
     "output_type": "display_data"
    },
    {
     "name": "stderr",
     "output_type": "stream",
     "text": [
      "`Trainer.fit` stopped: `max_steps=2000` reached.\n",
      "LOCAL_RANK: 0 - CUDA_VISIBLE_DEVICES: [0]\n"
     ]
    },
    {
     "data": {
      "application/vnd.jupyter.widget-view+json": {
       "model_id": "e4031facf8974e7589e64fbf533b316e",
       "version_major": 2,
       "version_minor": 0
      },
      "text/plain": [
       "Testing: 0it [00:00, ?it/s]"
      ]
     },
     "metadata": {},
     "output_type": "display_data"
    },
    {
     "name": "stdout",
     "output_type": "stream",
     "text": [
      "────────────────────────────────────────────────────────────────────────────────────────────────────────────────────────\n",
      "       Test metric             DataLoader 0\n",
      "────────────────────────────────────────────────────────────────────────────────────────────────────────────────────────\n",
      "     test/acceptance        0.9474455118179321\n",
      "        test/ess            0.9852901697158813\n",
      "       test/kl_div         0.016739163547754288\n",
      "────────────────────────────────────────────────────────────────────────────────────────────────────────────────────────\n"
     ]
    }
   ],
   "source": [
    "xy_transformer = MobiusMixtureTransform(10)\n",
    "z_transformer = BSplineTransform(10)\n",
    "model = RecursiveFlowS2(\n",
    "    target,\n",
    "    z_transformer,\n",
    "    xy_transformer,\n",
    "    n_layers=1,\n",
    "    batch_size=2000,\n",
    "    init_lr=0.01,\n",
    "    net_hidden_shape=[],\n",
    ")\n",
    "trainer = Trainer(2000)\n",
    "trainer.fit(model)\n",
    "(metrics,) = trainer.test(model)"
   ]
  },
  {
   "cell_type": "code",
   "execution_count": 4,
   "id": "aff74d79-2c87-4f1b-8f8c-4c3e9b9fd085",
   "metadata": {
    "tags": []
   },
   "outputs": [
    {
     "name": "stdout",
     "output_type": "stream",
     "text": [
      "acceptance:  0.6716\n"
     ]
    }
   ],
   "source": [
    "sample = flow_hmc(model, 5000, 0.1)"
   ]
  },
  {
   "cell_type": "code",
   "execution_count": null,
   "id": "5eacdd34-7f61-46d8-b141-df7f5f18518d",
   "metadata": {},
   "outputs": [],
   "source": []
  }
 ],
 "metadata": {
  "kernelspec": {
   "display_name": "Python 3 (ipykernel)",
   "language": "python",
   "name": "python3"
  },
  "language_info": {
   "codemirror_mode": {
    "name": "ipython",
    "version": 3
   },
   "file_extension": ".py",
   "mimetype": "text/x-python",
   "name": "python",
   "nbconvert_exporter": "python",
   "pygments_lexer": "ipython3",
   "version": "3.10.7"
  }
 },
 "nbformat": 4,
 "nbformat_minor": 5
}
