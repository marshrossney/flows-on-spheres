{
 "cells": [
  {
   "cell_type": "markdown",
   "id": "dde97381-07e2-47f6-8e8f-3abee55f4240",
   "metadata": {},
   "source": [
    "# Hybrid Monte Carlo"
   ]
  },
  {
   "cell_type": "markdown",
   "id": "e88f3327-1459-43b8-909f-167df3e7ca71",
   "metadata": {},
   "source": [
    "We first define a Hamiltonian by augmenting the action $S(\\mathbf{x}) \\equiv -\\log f_2(\\mathbf{x})$ with auxiliary Gaussian degrees of freedom $\\mathbf{p} \\in \\mathbb{R}^3$, which play the role of conjugate momenta,\n",
    "\n",
    "$$\n",
    "H(\\mathbf{x}, \\mathbf{p} \\mid \\kappa, \\boldsymbol{\\mu}) = \\frac{1}{2} \\mathbf{p} \\cdot \\mathbf{p} - \\kappa \\boldsymbol{\\mu} \\cdot \\mathbf{x}\n",
    "$$\n",
    "\n",
    "At all times the system is subject to the following constraints,\n",
    "\n",
    "$$\n",
    "\\mathbf{x} \\cdot \\mathbf{x} = 1 \\, , \\qquad\n",
    "\\mathbf{p} \\cdot \\mathbf{x} = 0 \\, .\n",
    "$$\n",
    "\n",
    "The system can be evolved along a trajectory of constant $H$ by integrating Hamilton's equations of motion,\n",
    "\n",
    "$$\n",
    "\\begin{align}\n",
    "    \\frac{\\mathrm{d}}{\\mathrm{d} t}\n",
    "    \\begin{pmatrix} \\mathbf{x} \\\\ \\mathbf{p} \\end{pmatrix}\n",
    "    = \\begin{pmatrix} \\mathbf{0} & \\mathbf{1} \\\\ -\\mathbf{1} & \\mathbf{0} \\end{pmatrix}\n",
    "    \\begin{pmatrix} \\mathcal{P}_\\mathbf{x} \\nabla_\\mathbf{x} H \\\\ \\nabla_\\mathbf{p} H \\end{pmatrix}\n",
    "    = \\begin{pmatrix} \\mathbf{p} \\\\ \\mathcal{P}_\\mathbf{x} \\kappa \\boldsymbol{\\mu} \\end{pmatrix}\n",
    "\\end{align}\n",
    "$$\n",
    "\n",
    "where\n",
    "\n",
    "$$\n",
    "\\mathcal{P}_\\mathbf{x} \\equiv (\\mathbb{I} - \\mathbf{x} \\mathbf{x}^\\top)\n",
    "$$\n",
    "\n",
    "is a matrix that projects out any components that are not orthogonal to $\\mathbf{x}$.\n",
    "\n",
    "In a numerical HMC simulation these equations of motion are integrated using finite-different updates.\n",
    "We will use the Leapfrog algorithm, which accumulates finite-step errors proportional to the square of the step size, $\\epsilon^2$.\n",
    "A full update is composed of three steps:\n",
    "\n",
    "$$\n",
    "\\begin{split}\n",
    "\\mathbf{p}^{(t+\\epsilon/2)} &= \\mathbf{p}^{(t)} + \\frac{\\epsilon}{2} \\mathcal{P}_{\\mathbf{x}^{(t)}} \\kappa \\boldsymbol{\\mu} \\\\\n",
    "\\\\\n",
    "\\begin{pmatrix} \\mathbf{x}^{(t+\\epsilon)} \\\\ \\tilde{\\mathbf{p}}^{(t+\\epsilon/2)} \\end{pmatrix}\n",
    "   &= \\begin{pmatrix} \n",
    "        \\cos \\epsilon \\lvert \\mathbf{p}^{(t+\\epsilon/2)} \\rvert\n",
    "        & \\frac{1}{\\lvert \\mathbf{p}^{(t+\\epsilon/2)} \\rvert} \\sin \\epsilon \\lvert \\mathbf{p}^{(t+\\epsilon/2)} \\rvert \\\\\n",
    "        - \\lvert \\mathbf{p}^{(t+\\epsilon/2)} \\rvert \\sin  \\epsilon \\lvert \\mathbf{p}^{(t+\\epsilon/2)} \\rvert\n",
    "        & \\cos \\epsilon \\lvert \\mathbf{p}^{(t+\\epsilon/2)} \\rvert\n",
    "    \\end{pmatrix}\n",
    "\\begin{pmatrix} \\mathbf{x}^{(t)} \\\\ \\mathbf{p}^{(t+\\epsilon/2)} \\end{pmatrix} \\\\\n",
    "\\\\\n",
    "\\mathbf{p}^{(t+\\epsilon)} &= \\tilde{\\mathbf{p}}^{(t+\\epsilon/2)} + \\frac{\\epsilon}{2} \\mathcal{P}_{\\mathbf{x}^{(t+\\epsilon)}} \\kappa \\boldsymbol{\\mu}\n",
    "\\end{split}\n",
    "$$\n",
    "\n",
    "The middle step, which updates both coordinates and momenta, is the full solution to the equations of motion with no forces ($\\kappa = 0$ i.e. a uniform target density) subject to the constraints.\n",
    "It can be viewed as an orthogonal transformation which rotates $\\mathbf{x}$ (such that it remains on the sphere) and $\\mathbf{p}$ (such that it remains in the tangent plane)."
   ]
  },
  {
   "cell_type": "code",
   "execution_count": null,
   "id": "a9ade39d-f2e3-428a-a3f6-cf5d7252fe3b",
   "metadata": {},
   "outputs": [],
   "source": [
    "from random import random\n",
    "from typing import TypeAlias\n",
    "\n",
    "import torch\n",
    "import torch.linalg as LA\n",
    "\n",
    "from distributions import SphericalUniformPrior3D\n",
    "from visualisations import pairplot, heatmap, line3d\n",
    "\n",
    "Tensor: TypeAlias = torch.Tensor"
   ]
  },
  {
   "cell_type": "code",
   "execution_count": null,
   "id": "e17a6302-f118-4a71-9afe-4eb6c4e0d7b3",
   "metadata": {},
   "outputs": [],
   "source": [
    "@torch.no_grad()\n",
    "def hmc(\n",
    "    n_traj: int,\n",
    "    traj_length: int,\n",
    "    n_steps: int,\n",
    "    κ: float,\n",
    "    μ: Tensor = Tensor([0.0, 0.0, 1.0]),\n",
    ") -> Tensor:\n",
    "    # Make sure μ is a Tensor and correctly normalised\n",
    "    μ = μ if isinstance(μ, torch.Tensor) else torch.tensor(μ, dtype=torch.float32)\n",
    "    μ.div_(LA.vector_norm(μ))\n",
    "\n",
    "    # Step size\n",
    "    ε = traj_length / n_steps\n",
    "\n",
    "    # Initial state randomly distributed on the sphere\n",
    "    x0, _ = next(SphericalUniformPrior3D(1))\n",
    "    x0.squeeze_()\n",
    "    assert x0.shape == torch.Size([3])\n",
    "\n",
    "    sample = torch.empty(n_traj, 3)\n",
    "\n",
    "    n_accepted = 0\n",
    "\n",
    "    for i in range(n_traj):\n",
    "        # Coordinates at t=0\n",
    "        x = x0.clone()\n",
    "\n",
    "        # Momenta at t=0 (project out part that is not orthogonal to x)\n",
    "        p = torch.empty_like(x).normal_()\n",
    "        M = torch.eye(3) - torch.outer(x, x)\n",
    "        p = M @ p\n",
    "\n",
    "        # assert torch.allclose(M @ x, torch.zeros(3), atol=1e-4), f\"{M @ x}\"\n",
    "        # assert torch.allclose(torch.dot(x, p), torch.zeros(3), atol=1e-4), f\"{torch.dot(x, p)}\"\n",
    "\n",
    "        # Hamiltonian at t=0\n",
    "        H0 = 0.5 * torch.dot(p, p) - κ * torch.dot(μ, x)\n",
    "\n",
    "        # ------------- Begin leapfrog ----------- #\n",
    "\n",
    "        p += 0.5 * ε * M @ (κ * μ)\n",
    "\n",
    "        for t in range(n_steps):\n",
    "            # Simultaneous update of coordinates and momenta in absence of forces\n",
    "            mod_p = LA.vector_norm(p)\n",
    "            cos_εp = torch.cos(ε * mod_p)\n",
    "            sin_εp = torch.sin(ε * mod_p)\n",
    "            x_tmp = cos_εp * x + (1 / mod_p) * sin_εp * p\n",
    "            p = -mod_p * sin_εp * x + cos_εp * p\n",
    "            x = x_tmp\n",
    "\n",
    "            # print(\"|x| = \", LA.vector_norm(x).item(), \"x . p = \", torch.dot(p, x).item())\n",
    "\n",
    "            # Momentum update using forces\n",
    "            M = torch.eye(3) - torch.outer(x, x)\n",
    "            if t == n_steps - 1:\n",
    "                p += 0.5 * ε * M @ (κ * μ)\n",
    "            else:\n",
    "                p += ε * M @ (κ * μ)\n",
    "\n",
    "        # ---------- End leapfrog ------------- #\n",
    "\n",
    "        HT = 0.5 * torch.dot(p, p) - κ * torch.dot(μ, x)\n",
    "\n",
    "        if HT < H0 or (H0 - HT).exp() > random():\n",
    "            n_accepted += 1\n",
    "            x0 = x\n",
    "\n",
    "        sample[i] = x0.clone()\n",
    "\n",
    "    print(\"acceptance: \", n_accepted / n_traj)\n",
    "\n",
    "    max_dev = (LA.vector_norm(sample, dim=-1) - 1).abs().max()\n",
    "    print(f\"largest deviation from unit sphere: ||x| - 1| = {max_dev}\")\n",
    "\n",
    "    return sample\n",
    "\n",
    "\n",
    "_ = hmc(10, 1, 10, 1)"
   ]
  },
  {
   "cell_type": "markdown",
   "id": "54ce1c85-06d7-4dcd-8d3e-024eb0f37756",
   "metadata": {},
   "source": [
    "## Uniform target ($\\kappa = 0.001$)"
   ]
  },
  {
   "cell_type": "code",
   "execution_count": null,
   "id": "75407707-42f8-4786-96b6-8bfec80ffaa7",
   "metadata": {},
   "outputs": [],
   "source": [
    "x_hmc = hmc(n_traj=100, traj_length=1, n_steps=1, κ=0.001, μ=[0, 0, 1])\n",
    "_ = line3d(x_hmc, lw=0.5)"
   ]
  },
  {
   "cell_type": "code",
   "execution_count": null,
   "id": "054739e6-4949-4dc5-b0b9-62f7ce419a9c",
   "metadata": {
    "tags": []
   },
   "outputs": [],
   "source": [
    "x_hmc = hmc(n_traj=10000, traj_length=1, n_steps=1, κ=0.001, μ=[0, 0, 1])\n",
    "pairplot(x_hmc)"
   ]
  },
  {
   "cell_type": "markdown",
   "id": "1b882d54-0e47-4b1e-845e-1399e57a164f",
   "metadata": {},
   "source": [
    "## Concentrated target ($\\kappa = 10$, $\\mu = (0, 0, 1)$)"
   ]
  },
  {
   "cell_type": "code",
   "execution_count": null,
   "id": "86053fbd-b8f1-4b6a-9d3e-f5b54c1e4bb7",
   "metadata": {
    "tags": []
   },
   "outputs": [],
   "source": [
    "x_hmc = hmc(n_traj=10000, traj_length=1, n_steps=4, κ=10, μ=[0, 0, 1])\n",
    "_ = line3d(x_hmc, lw=0.5)"
   ]
  },
  {
   "cell_type": "code",
   "execution_count": null,
   "id": "bb499169-73d8-4504-a9c6-605bdd08e8cf",
   "metadata": {
    "tags": []
   },
   "outputs": [],
   "source": [
    "x_hmc = hmc(n_traj=10000, traj_length=1, n_steps=4, κ=10, μ=[0, 0, 1])\n",
    "_ = pairplot(x_hmc)"
   ]
  },
  {
   "cell_type": "markdown",
   "id": "0602820b-4cb4-436b-86ea-9495e78ef525",
   "metadata": {},
   "source": [
    "## Concentrated target ($\\kappa = 10$, $\\mu = (1, 1, 0)$)"
   ]
  },
  {
   "cell_type": "code",
   "execution_count": null,
   "id": "0755d270-7c40-4221-80d6-eedc770c38e4",
   "metadata": {
    "tags": []
   },
   "outputs": [],
   "source": [
    "x_hmc = hmc(n_traj=10000, traj_length=1, n_steps=4, κ=10, μ=[1, 1, 0])\n",
    "\n",
    "_ = pairplot(x_hmc)\n",
    "_ = heatmap(x_hmc)"
   ]
  }
 ],
 "metadata": {
  "kernelspec": {
   "display_name": "Python 3 (ipykernel)",
   "language": "python",
   "name": "python3"
  },
  "language_info": {
   "codemirror_mode": {
    "name": "ipython",
    "version": 3
   },
   "file_extension": ".py",
   "mimetype": "text/x-python",
   "name": "python",
   "nbconvert_exporter": "python",
   "pygments_lexer": "ipython3",
   "version": "3.10.7"
  }
 },
 "nbformat": 4,
 "nbformat_minor": 5
}
