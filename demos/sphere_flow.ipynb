{
 "cells": [
  {
   "cell_type": "markdown",
   "id": "593727fc-99cb-4182-984d-4989bf439d85",
   "metadata": {},
   "source": [
    "## Flow-based sampling on the sphere"
   ]
  },
  {
   "cell_type": "code",
   "execution_count": null,
   "id": "4ac23bcb-bdfb-4156-9425-c455af1fb627",
   "metadata": {
    "tags": []
   },
   "outputs": [],
   "source": [
    "from math import pi as π\n",
    "\n",
    "import torch\n",
    "import matplotlib.pyplot as plt\n",
    "\n",
    "from vonmises.distributions import VonMisesFisherDensity, MixtureDensity\n",
    "from vonmises.models import RecursiveFlowS2\n",
    "from vonmises.transforms import (\n",
    "    MobiusMixtureTransform,\n",
    "    RQSplineTransform,\n",
    "    CircularRQSplineTransform,\n",
    "    BSplineTransform,\n",
    ")\n",
    "from vonmises.utils import Trainer"
   ]
  },
  {
   "cell_type": "code",
   "execution_count": null,
   "id": "e1fba6a1-e1cf-4e9c-aa34-13fae0086373",
   "metadata": {
    "tags": []
   },
   "outputs": [],
   "source": [
    "# ?RecursiveFlowS2\n",
    "# ?MobiusMixtureTransform\n",
    "# ?RQSplineTransform\n",
    "# ?CircularRQSplineTransform\n",
    "?BSplineTransform\n",
    "# ?VonMisesFisherDensity\n",
    "# ?MixtureDensity\n",
    "# ?Trainer"
   ]
  },
  {
   "cell_type": "code",
   "execution_count": null,
   "id": "4aa7bf41-9985-4370-892a-2bb30662d086",
   "metadata": {
    "tags": []
   },
   "outputs": [],
   "source": [
    "xy_transformer = MobiusMixtureTransform(10)\n",
    "z_transformer = BSplineTransform(10)\n",
    "target = MixtureDensity(\n",
    "    [\n",
    "        VonMisesFisherDensity(κ, μ)\n",
    "        for κ, μ in zip([5, 10, 15], [(0, 0, 1), (1, 0, 0), (0, -1, 0)])\n",
    "    ],\n",
    ")\n",
    "model = RecursiveFlowS2(\n",
    "    target,\n",
    "    z_transformer,\n",
    "    xy_transformer,\n",
    "    n_layers=1,\n",
    "    batch_size=3000,\n",
    "    init_lr=0.01,\n",
    "    net_hidden_shape=[],\n",
    ")\n",
    "trainer = Trainer(3000)"
   ]
  },
  {
   "cell_type": "code",
   "execution_count": null,
   "id": "09a71411-ea10-4f5f-890f-b8fab202077d",
   "metadata": {},
   "outputs": [],
   "source": [
    "trainer.fit(model)\n",
    "\n",
    "(metrics,) = trainer.test(model)"
   ]
  },
  {
   "cell_type": "code",
   "execution_count": null,
   "id": "efee4aa8-fe0e-46ee-b57c-17dd81359e35",
   "metadata": {
    "tags": []
   },
   "outputs": [],
   "source": [
    "from vonmises.utils.plot import heatmap, histogram, scatter\n",
    "\n",
    "x, logptilde, logp = model.sample(10000)\n",
    "\n",
    "_ = histogram(x)\n",
    "_ = scatter(x, colours=logp, s=0.5)"
   ]
  },
  {
   "cell_type": "code",
   "execution_count": null,
   "id": "03212770-c45a-4e7a-9ca9-171b5fc0bd76",
   "metadata": {},
   "outputs": [],
   "source": []
  }
 ],
 "metadata": {
  "kernelspec": {
   "display_name": "Python 3 (ipykernel)",
   "language": "python",
   "name": "python3"
  },
  "language_info": {
   "codemirror_mode": {
    "name": "ipython",
    "version": 3
   },
   "file_extension": ".py",
   "mimetype": "text/x-python",
   "name": "python",
   "nbconvert_exporter": "python",
   "pygments_lexer": "ipython3",
   "version": "3.10.7"
  }
 },
 "nbformat": 4,
 "nbformat_minor": 5
}
