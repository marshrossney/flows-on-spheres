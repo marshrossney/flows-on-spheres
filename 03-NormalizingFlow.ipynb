{
 "cells": [
  {
   "cell_type": "markdown",
   "id": "05b0323a-a556-4d5a-86e9-edf01838a734",
   "metadata": {
    "tags": []
   },
   "source": [
    "# Normalizing Flow"
   ]
  },
  {
   "cell_type": "code",
   "execution_count": null,
   "id": "9eb07855-dc03-4e09-a7d6-12231b320fbe",
   "metadata": {
    "tags": []
   },
   "outputs": [],
   "source": [
    "import math\n",
    "from typing import TypeAlias\n",
    "\n",
    "import matplotlib.pyplot as plt\n",
    "import pandas as pd\n",
    "import pytorch_lightning as pl\n",
    "from pytorch_lightning.loggers import TensorBoardLogger\n",
    "from pytorch_lightning.callbacks import ModelCheckpoint\n",
    "import seaborn as sns\n",
    "import torch\n",
    "import torch.linalg as LA\n",
    "\n",
    "from distributions import SphericalUniformPrior3D\n",
    "from models import NormalizingFlowRQS, NormalizingFlowC2\n",
    "from transforms import MobiusTransform, RQSplineTransform, RQSplineTransformCircularDomain, C2SplineTransform\n",
    "from utils import metropolis_acceptance, effective_sample_size, spherical_mesh, simple_fnn_conditioner\n",
    "from visualisations import scatter, pairplot\n",
    "\n",
    "Tensor: TypeAlias = torch.Tensor\n",
    "\n",
    "π = math.pi\n",
    "\n",
    "sns.set_theme()"
   ]
  },
  {
   "cell_type": "markdown",
   "id": "bbfb65ea-c6e7-4455-99b0-bedb049eefa1",
   "metadata": {
    "tags": []
   },
   "source": [
    "## Rational Quadratic Splines x2 (C1 transform)"
   ]
  },
  {
   "cell_type": "code",
   "execution_count": null,
   "id": "808a6e36-f77c-4b40-9938-3281d12bc679",
   "metadata": {
    "tags": []
   },
   "outputs": [],
   "source": [
    "@torch.no_grad()\n",
    "def visualise_rqs(model):\n",
    "        \n",
    "    # Inputs\n",
    "    z_in = torch.linspace(-1, 1, 10000).unsqueeze(-1)\n",
    "    ϕ_in = torch.linspace(0, 2 * π, 10000).unsqueeze(-1)\n",
    "        \n",
    "    for z_spline_params, ϕ_spline_params in zip(\n",
    "        model.z_spline_params.split(1, dim=0),\n",
    "        model.ϕ_spline_params,\n",
    "    ):\n",
    "        z_out, ldj_z = model.z_spline(z_in, z_spline_params.expand(*z_in.shape, -1))\n",
    "        ϕ_out, ldj_ϕ = model.ϕ_spline(ϕ_in, ϕ_spline_params(z_out).view(*ϕ_in.shape, -1))\n",
    "\n",
    "        # plot here\n",
    "        fig, axes = plt.subplots(1, 4, figsize=(16, 4))\n",
    "        axes = iter(axes)\n",
    "\n",
    "        ax = next(axes)\n",
    "        ax2 = ax.twinx()\n",
    "        ax2.grid(False)\n",
    "        spline, = ax.plot(z_in.squeeze(), z_out.squeeze(), color=\"tab:blue\")\n",
    "        grad, = ax2.plot(z_in.squeeze(), ldj_z.squeeze(), color=\"tab:orange\")\n",
    "        ax.set_xlabel(r\"$z_{in}$\")\n",
    "        ax.set_ylabel(r\"$z_{out}$\")\n",
    "        ax.set_title(\"Spline for z coordinate\")\n",
    "        ax2.legend(handles=[spline, grad], labels=[\"spline\", \"log gradient\"])\n",
    "\n",
    "        ax = next(axes)\n",
    "        ax.hist(z_in.squeeze(), bins=20, histtype=\"step\", label=r\"$z_{in}$\")\n",
    "        ax.hist(z_out.squeeze(), bins=20, histtype=\"step\", label=r\"$z_{out}$\")\n",
    "        ax.set_title(\"Histogram for z coordinate\")\n",
    "        ax.legend()\n",
    "\n",
    "        ax = next(axes)\n",
    "        ax2 = ax.twinx()\n",
    "        ax2.grid(False)\n",
    "        spline, = ax.plot(ϕ_in.squeeze(), ϕ_out.squeeze(), color=\"tab:blue\", label=\"spline\")\n",
    "        grad, = ax2.plot(ϕ_in.squeeze(), ldj_ϕ.squeeze(), color=\"tab:orange\", label=\"log gradient\")\n",
    "        ax.set_xlabel(r\"$\\phi_{in}$\")\n",
    "        ax.set_ylabel(r\"$\\phi_{out}$\")\n",
    "        ax.set_title(r\"Spline for $\\phi$ coordinate\")\n",
    "        ax2.legend(handles=[spline, grad], labels=[\"spline\", \"log gradient\"])\n",
    "\n",
    "        ax = next(axes)\n",
    "        ax.hist(ϕ_in.squeeze(), bins=20, histtype=\"step\", label=r\"$\\phi_{in}$\")\n",
    "        ax.hist(ϕ_out.squeeze(), bins=20, histtype=\"step\", label=r\"$\\phi_{out}$\")\n",
    "        ax.set_title(r\"Histogram for $\\phi$ coordinate\")\n",
    "        ax.legend() \n",
    "\n",
    "        fig.tight_layout()\n",
    "\n",
    "        yield fig\n",
    "\n",
    "        z_in, ϕ_in = z_out, ϕ_out"
   ]
  },
  {
   "cell_type": "markdown",
   "id": "f111303e-82bc-424f-9877-4da2e08af45c",
   "metadata": {},
   "source": [
    "### $\\kappa \\approx 0$ (uniform target)"
   ]
  },
  {
   "cell_type": "code",
   "execution_count": null,
   "id": "108ba4bc-cb88-45ab-8ac9-96b4b9424ac0",
   "metadata": {
    "tags": []
   },
   "outputs": [],
   "source": [
    "κ = 0.001\n",
    "μ = [0, 0, 1]\n",
    "\n",
    "model = NormalizingFlowRQS(\n",
    "    κ=κ,\n",
    "    μ=μ,\n",
    "    n_layers=1,\n",
    "    n_spline=6,\n",
    "    hidden_shape=[],\n",
    "    activation=\"Identity\",\n",
    "    batch_size=1000,\n",
    "    val_batch_size=5000,\n",
    "    init_lr=0.01,\n",
    ")\n",
    "\n",
    "trainer = pl.Trainer(\n",
    "    max_steps=1000,\n",
    "    val_check_interval=50,\n",
    "    limit_val_batches=1,\n",
    "    limit_test_batches=1,\n",
    "    num_sanity_val_steps=1,\n",
    "    logger=False,\n",
    ")\n",
    "\n",
    "trainer.fit(model)\n",
    "\n",
    "(metrics,) = trainer.test(model)\n",
    "\n",
    "[fig for fig in visualise_rqs(model)]"
   ]
  },
  {
   "cell_type": "markdown",
   "id": "5134be59-2349-43b6-9ba5-49a50157ce82",
   "metadata": {
    "tags": []
   },
   "source": [
    "### $\\kappa = 10$, $\\mu = (0, 0, 1)$, one layer of 12 segments"
   ]
  },
  {
   "cell_type": "code",
   "execution_count": null,
   "id": "81a385f6-45ec-4d2e-ae71-e126c172672f",
   "metadata": {
    "tags": []
   },
   "outputs": [],
   "source": [
    "κ = 10\n",
    "μ = [0, 0, 1]\n",
    "\n",
    "model = NormalizingFlowRQS(\n",
    "    κ=κ,\n",
    "    μ=μ,\n",
    "    n_layers=1,\n",
    "    n_spline=12,\n",
    "    hidden_shape=[],\n",
    "    activation=\"Identity\",\n",
    "    batch_size=1000,\n",
    "    val_batch_size=5000,\n",
    "    init_lr=0.01,\n",
    ")\n",
    "\n",
    "trainer = pl.Trainer(\n",
    "    accelerator=\"auto\",\n",
    "    max_steps=2000,\n",
    "    val_check_interval=50,\n",
    "    limit_val_batches=1,\n",
    "    limit_test_batches=1,\n",
    "    num_sanity_val_steps=1,\n",
    "    logger=False,\n",
    ")\n",
    "\n",
    "trainer.fit(model)\n",
    "\n",
    "(metrics,) = trainer.test(model)\n",
    "\n",
    "[fig for fig in visualise_rqs(model)]"
   ]
  },
  {
   "cell_type": "markdown",
   "id": "edbfe404-b8dc-4b30-9856-aa49241c680f",
   "metadata": {},
   "source": [
    "### $\\kappa = 10$, $\\mu = (0, 0, 1)$, two layers of 6 segments"
   ]
  },
  {
   "cell_type": "code",
   "execution_count": null,
   "id": "4e22c484-80f4-415e-b506-93f6d2021225",
   "metadata": {
    "tags": []
   },
   "outputs": [],
   "source": [
    "κ = 10\n",
    "μ = [0, 0, 1]\n",
    "\n",
    "model = NormalizingFlowRQS(\n",
    "    κ=κ,\n",
    "    μ=μ,\n",
    "    n_layers=2,\n",
    "    n_spline=6,\n",
    "    hidden_shape=[],\n",
    "    activation=\"Identity\",\n",
    "    batch_size=1000,\n",
    "    val_batch_size=5000,\n",
    "    init_lr=0.01,\n",
    ")\n",
    "\n",
    "trainer = pl.Trainer(\n",
    "    accelerator=\"auto\",\n",
    "    max_steps=2000,\n",
    "    val_check_interval=50,\n",
    "    limit_val_batches=1,\n",
    "    limit_test_batches=1,\n",
    "    num_sanity_val_steps=1,\n",
    "    logger=False,\n",
    ")\n",
    "\n",
    "trainer.fit(model)\n",
    "\n",
    "(metrics,) = trainer.test(model)\n",
    "\n",
    "[fig for fig in visualise_rqs(model)]"
   ]
  },
  {
   "cell_type": "markdown",
   "id": "9a1dc4cf-6756-4e76-88da-941bec108567",
   "metadata": {},
   "source": [
    "### $\\kappa = 10$, $\\mu = (0, 1, 0)$, one layer of 12 segments"
   ]
  },
  {
   "cell_type": "code",
   "execution_count": null,
   "id": "976c7bad-d7c4-4bf7-863a-7b1cdf69c492",
   "metadata": {
    "tags": []
   },
   "outputs": [],
   "source": [
    "κ = 10\n",
    "μ = [0, 1, 0]\n",
    "\n",
    "model = NormalizingFlowRQS(\n",
    "    κ=κ,\n",
    "    μ=μ,\n",
    "    n_layers=1,\n",
    "    n_spline=12,\n",
    "    hidden_shape=[],\n",
    "    activation=\"Identity\",\n",
    "    batch_size=1000,\n",
    "    val_batch_size=5000,\n",
    "    init_lr=0.01,\n",
    ")\n",
    "\n",
    "trainer = pl.Trainer(\n",
    "    accelerator=\"auto\",\n",
    "    max_steps=2000,\n",
    "    val_check_interval=50,\n",
    "    limit_val_batches=1,\n",
    "    limit_test_batches=1,\n",
    "    num_sanity_val_steps=1,\n",
    "    logger=False,\n",
    ")\n",
    "\n",
    "trainer.fit(model)\n",
    "\n",
    "(metrics,) = trainer.test(model)\n",
    "\n",
    "[fig for fig in visualise_rqs(model)]"
   ]
  },
  {
   "cell_type": "markdown",
   "id": "b2bcfbfb-9c48-45cf-8994-c95585646735",
   "metadata": {},
   "source": [
    "### $\\kappa = 10$, $\\mu = (0, 1, 1)$, one layer of 12 segments"
   ]
  },
  {
   "cell_type": "code",
   "execution_count": null,
   "id": "92903e4b-1b9e-4e39-b63f-10780ebf2cd3",
   "metadata": {
    "tags": []
   },
   "outputs": [],
   "source": [
    "κ = 10\n",
    "μ = [0, 1, 1]\n",
    "\n",
    "model = NormalizingFlowRQS(\n",
    "    κ=κ,\n",
    "    μ=μ,\n",
    "    n_layers=1,\n",
    "    n_spline=12,\n",
    "    hidden_shape=[],\n",
    "    activation=\"Identity\",\n",
    "    batch_size=1000,\n",
    "    val_batch_size=5000,\n",
    "    init_lr=0.01,\n",
    ")\n",
    "\n",
    "trainer = pl.Trainer(\n",
    "    accelerator=\"auto\",\n",
    "    max_steps=2000,\n",
    "    val_check_interval=50,\n",
    "    limit_val_batches=1,\n",
    "    limit_test_batches=1,\n",
    "    num_sanity_val_steps=1,\n",
    "    logger=False,\n",
    ")\n",
    "\n",
    "trainer.fit(model)\n",
    "\n",
    "(metrics,) = trainer.test(model)\n",
    "\n",
    "[fig for fig in visualise_rqs(model)]"
   ]
  },
  {
   "cell_type": "markdown",
   "id": "9ea44ed7-9904-4168-a2f8-31f2f9293c3f",
   "metadata": {},
   "source": [
    "### $\\kappa = 10$, $\\mu = (0, 1, 1)$, two layers of 6 segments"
   ]
  },
  {
   "cell_type": "code",
   "execution_count": null,
   "id": "3a78c3af-6708-4f3d-a36a-6b5a75787d2d",
   "metadata": {
    "tags": []
   },
   "outputs": [],
   "source": [
    "κ = 10\n",
    "μ = [0, 1, 1]\n",
    "\n",
    "model = NormalizingFlowRQS(\n",
    "    κ=κ,\n",
    "    μ=μ,\n",
    "    n_layers=2,\n",
    "    n_spline=6,\n",
    "    hidden_shape=[],\n",
    "    activation=\"Identity\",\n",
    "    batch_size=1000,\n",
    "    val_batch_size=5000,\n",
    "    init_lr=0.01,\n",
    ")\n",
    "\n",
    "trainer = pl.Trainer(\n",
    "    accelerator=\"auto\",\n",
    "    max_steps=2000,\n",
    "    val_check_interval=50,\n",
    "    limit_val_batches=1,\n",
    "    limit_test_batches=1,\n",
    "    num_sanity_val_steps=1,\n",
    "    logger=False,\n",
    ")\n",
    "\n",
    "trainer.fit(model)\n",
    "\n",
    "(metrics,) = trainer.test(model)\n",
    "\n",
    "[fig for fig in visualise_rqs(model)]"
   ]
  },
  {
   "cell_type": "markdown",
   "id": "a7a48ba2-83b5-45c0-a694-4a46a8c82959",
   "metadata": {},
   "source": [
    "### Save a trained model for Flow HMC"
   ]
  },
  {
   "cell_type": "code",
   "execution_count": null,
   "id": "952b6d87-b3b1-4fd4-894a-81a214aab9a8",
   "metadata": {
    "tags": []
   },
   "outputs": [],
   "source": [
    "κ = 10\n",
    "μ = [1, -1, 1]\n",
    "\n",
    "model = NormalizingFlowRQS(\n",
    "    κ=κ,\n",
    "    μ=μ,\n",
    "    n_layers=4,\n",
    "    n_spline=6,\n",
    "    hidden_shape=[],\n",
    "    activation=\"Identity\",\n",
    "    batch_size=1000,\n",
    "    val_batch_size=5000,\n",
    "    init_lr=0.001,\n",
    ")\n",
    "\n",
    "logger = TensorBoardLogger(save_dir=\"tb_logs\", name=\"rq_spline\")\n",
    "checkpointing = ModelCheckpoint(save_last=True)\n",
    "\n",
    "trainer = pl.Trainer(\n",
    "    accelerator=\"auto\",\n",
    "    max_steps=4000,\n",
    "    val_check_interval=500,\n",
    "    limit_val_batches=1,\n",
    "    limit_test_batches=1,\n",
    "    num_sanity_val_steps=1,\n",
    "    logger=logger,\n",
    "    callbacks=[checkpointing],\n",
    ")\n",
    "\n",
    "trainer.fit(model)\n",
    "\n",
    "(metrics,) = trainer.test(model)\n",
    "\n",
    "[fig for fig in visualise_rqs(model)]"
   ]
  },
  {
   "cell_type": "markdown",
   "id": "33ae8a7d-5fb8-4ca6-adb3-99ee404413c9",
   "metadata": {},
   "source": [
    "## Mobius + C2 Splines (C2 transform)"
   ]
  },
  {
   "cell_type": "code",
   "execution_count": null,
   "id": "e1abdfa5-e89c-4a6a-a235-2320335778f8",
   "metadata": {
    "tags": []
   },
   "outputs": [],
   "source": [
    "@torch.no_grad()\n",
    "def visualise_c2(model):\n",
    "\n",
    "    # Inputs\n",
    "    z_in = torch.linspace(-1, 1, 10000).unsqueeze(-1)\n",
    "    ϕ_in = torch.linspace(1e-5, 2 * π - 1e-5, 10000).unsqueeze(-1)\n",
    "    #ϕ_in = torch.linspace(0, 6 * π, 10000).unsqueeze(-1) % (2 * π)\n",
    "    #ϕ_in = torch.zeros_like(z_in)\n",
    "    xy_in = torch.cat([ϕ_in.cos(), ϕ_in.sin()], dim=-1)\n",
    "\n",
    "    for z_params, xy_params in zip(\n",
    "        model.z_params.split(1, dim=0),\n",
    "        model.xy_params,\n",
    "    ):\n",
    "        z_out, ldj_z = model.spline_transform(z_in, z_params.expand(*z_in.shape, -1))\n",
    "\n",
    "        # [-1, 1]\n",
    "        omega_x, omega_y = torch.tanh(xy_params(z_out)).clamp(-1 + 1e-3, 1 - 1e-3).view(*xy_in.shape).split(1, dim=-1)\n",
    "        omega_y = omega_y * torch.sqrt(1 - omega_x.pow(2))  # [-sqrt(1 - x^2), sqrt(1 - x^2)]\n",
    "        omega = torch.cat([omega_x, omega_y], dim=-1)\n",
    "        xy_out, ldj_xy = model.mobius_transform(xy_in, omega)\n",
    "\n",
    "        ϕ_out = torch.fmod(torch.atan2(xy_out[..., 1], xy_out[..., 0]) + 2 * π, 2 * π)\n",
    "\n",
    "        # plot here\n",
    "        fig, axes = plt.subplots(1, 4, figsize=(16, 4))\n",
    "        axes = iter(axes)\n",
    "\n",
    "        ax = next(axes)\n",
    "        ax2 = ax.twinx()\n",
    "        ax2.grid(False)\n",
    "        spline, = ax.plot(z_in.squeeze(), z_out.squeeze(), color=\"tab:blue\")\n",
    "        grad, = ax2.plot(z_in.squeeze(), ldj_z.squeeze(), color=\"tab:orange\")\n",
    "        ax.set_xlabel(r\"$z_{in}$\")\n",
    "        ax.set_ylabel(r\"$z_{out}$\")\n",
    "        ax.set_title(\"Spline for z coordinate\")\n",
    "        ax2.legend(handles=[spline, grad], labels=[\"spline\", \"log gradient\"])\n",
    "\n",
    "        ax = next(axes)\n",
    "        ax.hist(z_in.squeeze(), bins=20, histtype=\"step\", label=r\"$z_{in}$\")\n",
    "        ax.hist(z_out.squeeze(), bins=20, histtype=\"step\", label=r\"$z_{out}$\")\n",
    "        ax.set_title(\"Histogram for z coordinate\")\n",
    "        ax.legend()\n",
    "\n",
    "        ax = next(axes)\n",
    "        ax2 = ax.twinx()\n",
    "        ax2.grid(False)\n",
    "        spline, = ax.plot(ϕ_in.squeeze(), ϕ_out.squeeze(), color=\"tab:blue\", label=\"spline\")\n",
    "        grad, = ax2.plot(ϕ_in.squeeze(), ldj_xy.squeeze(), color=\"tab:orange\", label=\"log gradient\")\n",
    "        ax.set_xlabel(r\"$\\phi_{in}$\")\n",
    "        ax.set_ylabel(r\"$\\phi_{out}$\")\n",
    "        ax.set_title(r\"Mobius transformation for $\\phi$ coordinate\")\n",
    "        ax2.legend(handles=[spline, grad], labels=[\"mobius\", \"log gradient\"])\n",
    "\n",
    "        ax = next(axes)\n",
    "        ax.hist(ϕ_in.squeeze(), bins=20, histtype=\"step\", label=r\"$\\phi_{in}$\")\n",
    "        ax.hist(ϕ_out.squeeze(), bins=20, histtype=\"step\", label=r\"$\\phi_{out}$\")\n",
    "        ax.set_title(r\"Histogram for $\\phi$ coordinate\")\n",
    "        ax.legend() \n",
    "\n",
    "        fig.tight_layout()\n",
    "\n",
    "        yield fig\n",
    "\n",
    "        z_in, xy_in = z_out, xy_out"
   ]
  },
  {
   "cell_type": "markdown",
   "id": "7f65f65c-1aee-4b9c-a891-fd8361f2e43b",
   "metadata": {},
   "source": [
    "### $\\kappa \\approx 0$ (uniform target)"
   ]
  },
  {
   "cell_type": "code",
   "execution_count": null,
   "id": "1fb0aa8a-bb21-4b8e-8f4f-017aa429a679",
   "metadata": {
    "tags": []
   },
   "outputs": [],
   "source": [
    "κ = 0.001\n",
    "μ = [0, 0, 1]\n",
    "\n",
    "model = NormalizingFlowC2(\n",
    "    κ=κ,\n",
    "    μ=μ,\n",
    "    n_layers=1,\n",
    "    n_spline=6,\n",
    "    hidden_shape=[],\n",
    "    activation=\"Identity\",\n",
    "    batch_size=500,\n",
    "    val_batch_size=500,\n",
    "    init_lr=0.01,\n",
    ")\n",
    "\n",
    "trainer = pl.Trainer(\n",
    "    max_steps=1000,\n",
    "    val_check_interval=50,\n",
    "    limit_val_batches=1,\n",
    "    limit_test_batches=1,\n",
    "    num_sanity_val_steps=1,\n",
    "    logger=False,\n",
    ")\n",
    "\n",
    "trainer.fit(model)\n",
    "\n",
    "(metrics,) = trainer.test(model)\n",
    "\n",
    "[fig for fig in visualise_c2(model)]"
   ]
  },
  {
   "cell_type": "markdown",
   "id": "5d536a8a-e6b4-4e06-9270-c4d55c76ccce",
   "metadata": {
    "tags": []
   },
   "source": [
    "### $\\kappa = 10$, $\\mu = (0, 0, 1)$, one layer of 12 segments"
   ]
  },
  {
   "cell_type": "code",
   "execution_count": null,
   "id": "71400bc8-bf1e-46c6-bd2a-3cc0352a5fda",
   "metadata": {
    "tags": []
   },
   "outputs": [],
   "source": [
    "κ = 10\n",
    "μ = [0, 0, 1]\n",
    "\n",
    "model = NormalizingFlowC2(\n",
    "    κ=κ,\n",
    "    μ=μ,\n",
    "    n_layers=1,\n",
    "    n_spline=12,\n",
    "    hidden_shape=[],\n",
    "    activation=\"Identity\",\n",
    "    batch_size=1000,\n",
    "    val_batch_size=5000,\n",
    "    init_lr=0.01,\n",
    ")\n",
    "\n",
    "trainer = pl.Trainer(\n",
    "    accelerator=\"auto\",\n",
    "    max_steps=2000,\n",
    "    val_check_interval=50,\n",
    "    limit_val_batches=1,\n",
    "    limit_test_batches=1,\n",
    "    num_sanity_val_steps=1,\n",
    "    logger=False,\n",
    ")\n",
    "\n",
    "trainer.fit(model)\n",
    "\n",
    "(metrics,) = trainer.test(model)\n",
    "\n",
    "[fig for fig in visualise_c2(model)]"
   ]
  },
  {
   "cell_type": "markdown",
   "id": "6e211b38-cc67-47dc-82ff-15d668f1b7b4",
   "metadata": {},
   "source": [
    "### $\\kappa = 10$, $\\mu = (0, 1, 0)$, one layer of 12 segments"
   ]
  },
  {
   "cell_type": "code",
   "execution_count": null,
   "id": "293cd815-8e26-4d1f-830c-974ee5ac86f9",
   "metadata": {},
   "outputs": [],
   "source": [
    "κ = 10\n",
    "μ = [0, 1, 0]\n",
    "\n",
    "model = NormalizingFlowC2(\n",
    "    κ=κ,\n",
    "    μ=μ,\n",
    "    n_layers=1,\n",
    "    n_spline=3,\n",
    "    hidden_shape=[],\n",
    "    activation=\"Identity\",\n",
    "    batch_size=4000,\n",
    "    val_batch_size=5000,\n",
    "    init_lr=0.001,\n",
    ")\n",
    "\n",
    "trainer = pl.Trainer(\n",
    "    accelerator=\"auto\",\n",
    "    max_steps=4000,\n",
    "    val_check_interval=50,\n",
    "    limit_val_batches=1,\n",
    "    limit_test_batches=1,\n",
    "    num_sanity_val_steps=1,\n",
    "    logger=False,\n",
    ")\n",
    "\n",
    "trainer.fit(model)\n",
    "\n",
    "(metrics,) = trainer.test(model)\n",
    "\n",
    "[fig for fig in visualise_c2(model)]"
   ]
  },
  {
   "cell_type": "markdown",
   "id": "278342a9-2740-4dfa-970b-8b6aa0cd2788",
   "metadata": {},
   "source": [
    "### Save a trained model for Flow HMC"
   ]
  },
  {
   "cell_type": "code",
   "execution_count": null,
   "id": "f1d6f08d-f61b-4ee3-bd25-290003e90f91",
   "metadata": {
    "tags": []
   },
   "outputs": [],
   "source": [
    "κ = 10\n",
    "μ = [1, -1, 1]\n",
    "\n",
    "model = NormalizingFlowC2(\n",
    "    κ=κ,\n",
    "    μ=μ,\n",
    "    n_layers=4,\n",
    "    n_spline=6,\n",
    "    hidden_shape=[],\n",
    "    activation=\"Identity\",\n",
    "    batch_size=1000,\n",
    "    val_batch_size=5000,\n",
    "    init_lr=0.001,\n",
    ")\n",
    "\n",
    "logger = TensorBoardLogger(save_dir=\"tb_logs\", name=\"c2_spline\")\n",
    "checkpointing = ModelCheckpoint(save_last=True)\n",
    "\n",
    "trainer = pl.Trainer(\n",
    "    accelerator=\"auto\",\n",
    "    max_steps=4000,\n",
    "    val_check_interval=500,\n",
    "    limit_val_batches=1,\n",
    "    limit_test_batches=1,\n",
    "    num_sanity_val_steps=1,\n",
    "    logger=logger,\n",
    "    callbacks=[checkpointing],\n",
    ")\n",
    "\n",
    "trainer.fit(model)\n",
    "\n",
    "(metrics,) = trainer.test(model)\n",
    "\n",
    "[fig for fig in visualise_c2(model)]"
   ]
  },
  {
   "cell_type": "code",
   "execution_count": null,
   "id": "63829da6-49a6-491b-9c60-6e6e2587116c",
   "metadata": {},
   "outputs": [],
   "source": []
  }
 ],
 "metadata": {
  "kernelspec": {
   "display_name": "Python 3 (ipykernel)",
   "language": "python",
   "name": "python3"
  },
  "language_info": {
   "codemirror_mode": {
    "name": "ipython",
    "version": 3
   },
   "file_extension": ".py",
   "mimetype": "text/x-python",
   "name": "python",
   "nbconvert_exporter": "python",
   "pygments_lexer": "ipython3",
   "version": "3.10.7"
  }
 },
 "nbformat": 4,
 "nbformat_minor": 5
}
